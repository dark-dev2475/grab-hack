{
 "cells": [
  {
   "cell_type": "markdown",
   "id": "55fa0b02",
   "metadata": {},
   "source": [
    "# Grab Food Packaging Dispute Resolution Agent\n",
    "\n",
    "This notebook demonstrates the LangGraph implementation of a packaging dispute resolution agent for Grab Food deliveries. The agent handles situations where a customer reports damaged packaging."
   ]
  },
  {
   "cell_type": "markdown",
   "id": "8d748201",
   "metadata": {},
   "source": [
    "## Import Required Libraries and Modules"
   ]
  },
  {
   "cell_type": "code",
   "execution_count": null,
   "id": "54e3b8c3",
   "metadata": {},
   "outputs": [],
   "source": [
    "import sys\n",
    "import os\n",
    "from pathlib import Path\n",
    "\n",
    "# Add the parent directory to the path to import the modules if needed\n",
    "if not any(p.endswith('grab-x') for p in sys.path):\n",
    "    sys.path.append(str(Path().resolve().parent))\n",
    "\n",
    "# Import our packaging dispute module\n",
    "from agents.food.damage import (\n",
    "    manage_packaging_dispute,\n",
    "    run_packaging_dispute_workflow,\n",
    "    DisputeState\n",
    ")"
   ]
  },
  {
   "cell_type": "markdown",
   "id": "f503065d",
   "metadata": {},
   "source": [
    "## Visualize the Workflow Graph\n",
    "\n",
    "Let's visualize the LangGraph workflow to understand the dispute resolution process."
   ]
  },
  {
   "cell_type": "code",
   "execution_count": null,
   "id": "ab5aafd0",
   "metadata": {},
   "outputs": [],
   "source": [
    "# Create the workflow and visualize its structure\n",
    "workflow = manage_packaging_dispute()\n",
    "workflow.get_graph().draw_mermaid()"
   ]
  },
  {
   "cell_type": "markdown",
   "id": "2ccda46f",
   "metadata": {},
   "source": [
    "## Run the Packaging Dispute Resolution Workflow\n",
    "\n",
    "Now let's run the workflow with a simulated dispute scenario."
   ]
  },
  {
   "cell_type": "code",
   "execution_count": null,
   "id": "2bb30097",
   "metadata": {},
   "outputs": [],
   "source": [
    "# Define a test dispute scenario\n",
    "dispute_details = \"My food delivery arrived with torn packaging and the food was spilled all over the bag. I want a refund and to make sure this doesn't happen again.\"\n",
    "\n",
    "print(f\"Dispute details: {dispute_details}\\n\")\n",
    "print(\"Starting workflow...\\n\")"
   ]
  },
  {
   "cell_type": "code",
   "execution_count": null,
   "id": "b9a16c69",
   "metadata": {},
   "outputs": [],
   "source": [
    "# Run the workflow\n",
    "result = run_packaging_dispute_workflow(dispute_details)"
   ]
  },
  {
   "cell_type": "markdown",
   "id": "c665f313",
   "metadata": {},
   "source": [
    "## Examine the Workflow Results\n",
    "\n",
    "Let's look at the messages exchanged during the workflow execution and the final resolution."
   ]
  },
  {
   "cell_type": "code",
   "execution_count": null,
   "id": "e68a2d5f",
   "metadata": {},
   "outputs": [],
   "source": [
    "# Print the messages from the workflow execution\n",
    "for i, message in enumerate(result[\"messages\"]):\n",
    "    print(f\"Message {i+1} ({message.type}):\")\n",
    "    # Truncate long messages for readability\n",
    "    content = message.content\n",
    "    if len(content) > 150:\n",
    "        content = content[:147] + \"...\"\n",
    "    print(f\"  {content}\")\n",
    "    print()"
   ]
  },
  {
   "cell_type": "code",
   "execution_count": null,
   "id": "4537d46d",
   "metadata": {},
   "outputs": [],
   "source": [
    "# Print the final resolution\n",
    "print(\"=== Final Resolution ===\")\n",
    "resolution = result.get(\"resolution\", \"No resolution recorded\")\n",
    "print(f\"Resolution: {resolution}\\n\")\n",
    "\n",
    "# Print evidence and analysis summary if available\n",
    "if result.get(\"evidence\"):\n",
    "    print(\"=== Evidence Summary ===\")\n",
    "    print(f\"Customer evidence: {result.get('customer_response', 'None')}\")\n",
    "    print(f\"Driver evidence: {result.get('driver_response', 'None')}\\n\")\n",
    "\n",
    "if result.get(\"analysis_result\"):\n",
    "    print(\"=== Analysis Result ===\")\n",
    "    analysis = result.get(\"analysis_result\")\n",
    "    print(f\"Responsibility: {analysis.get('responsibility', 'Unknown')}\")\n",
    "    print(f\"Confidence: {analysis.get('confidence', 0)}\")\n",
    "    if analysis.get(\"human_reviewed\"):\n",
    "        print(\"Note: This case was reviewed by a human specialist\")"
   ]
  },
  {
   "cell_type": "markdown",
   "id": "e742b687",
   "metadata": {},
   "source": [
    "## Analyzing a Different Scenario\n",
    "\n",
    "Let's try a different scenario where the evidence is more ambiguous."
   ]
  },
  {
   "cell_type": "code",
   "execution_count": null,
   "id": "915bd21c",
   "metadata": {},
   "outputs": [],
   "source": [
    "# Define a more ambiguous dispute scenario\n",
    "ambiguous_dispute = \"I noticed the packaging was damaged when I opened the bag, but the food seems mostly intact. I'm not sure if it happened during delivery or if it was like this from the restaurant.\"\n",
    "\n",
    "# We could run this scenario as well to see how the agent handles it\n",
    "# result2 = run_packaging_dispute_workflow(ambiguous_dispute)"
   ]
  },
  {
   "cell_type": "markdown",
   "id": "fb2be87a",
   "metadata": {},
   "source": [
    "## Conclusion\n",
    "\n",
    "This notebook demonstrates how LangGraph can be used to create a sophisticated agent-based workflow for resolving packaging disputes in food delivery. The workflow:\n",
    "\n",
    "1. Gathers initial information\n",
    "2. Collects evidence from both customer and driver\n",
    "3. Analyzes the evidence to determine responsibility\n",
    "4. Resolves the dispute with appropriate actions\n",
    "5. Escalates to human review when necessary\n",
    "\n",
    "This approach provides a structured, deterministic process for handling customer disputes while maintaining flexibility for complex scenarios."
   ]
  }
 ],
 "metadata": {
  "language_info": {
   "name": "python"
  }
 },
 "nbformat": 4,
 "nbformat_minor": 5
}
