{
 "cells": [
  {
   "cell_type": "code",
   "execution_count": 85,
   "id": "74979c15",
   "metadata": {},
   "outputs": [],
   "source": [
    "import os\n"
   ]
  },
  {
   "cell_type": "code",
   "execution_count": 86,
   "id": "c88de467",
   "metadata": {},
   "outputs": [
    {
     "data": {
      "text/plain": [
       "True"
      ]
     },
     "execution_count": 86,
     "metadata": {},
     "output_type": "execute_result"
    }
   ],
   "source": [
    "from dotenv import load_dotenv\n",
    "load_dotenv()"
   ]
  },
  {
   "cell_type": "code",
   "execution_count": 87,
   "id": "2f040aa2",
   "metadata": {},
   "outputs": [],
   "source": [
    "GOOGLE_API_KEY = os.getenv(\"GOOGLE_API_KEY\")\n",
    "os.environ[\"GOOGLE_API_KEY\"] = GOOGLE_API_KEY"
   ]
  },
  {
   "cell_type": "code",
   "execution_count": 88,
   "id": "f225bb72",
   "metadata": {},
   "outputs": [],
   "source": [
    "\n",
    "from langchain_google_genai import ChatGoogleGenerativeAI\n",
    "llm = ChatGoogleGenerativeAI(model=\"gemini-1.5-pro-latest\")"
   ]
  },
  {
   "cell_type": "code",
   "execution_count": 89,
   "id": "afa60684",
   "metadata": {},
   "outputs": [],
   "source": [
    "from typing import Annotated\n",
    "from typing import Literal\n",
    "from langchain_community.tools.tavily_search import TavilySearchResults\n",
    "from langchain_core.tools import tool\n",
    "from langchain_experimental.utilities import PythonREPL\n",
    "from typing_extensions import TypedDict\n",
    "from langgraph.graph import MessagesState, END,StateGraph, START\n",
    "from langgraph.types import Command\n",
    "from langchain_core.messages import HumanMessage\n",
    "from langgraph.prebuilt import create_react_agent\n"
   ]
  },
  {
   "cell_type": "code",
   "execution_count": 90,
   "id": "647ac5ce",
   "metadata": {},
   "outputs": [],
   "source": [
    "members1=[\"manage_overloaded_restaurant\",\"damaged_packaging_dispute\",\"communicate\"]"
   ]
  },
  {
   "cell_type": "code",
   "execution_count": 91,
   "id": "c69495f6",
   "metadata": {},
   "outputs": [],
   "source": [
    "options=members1+['FINISH']"
   ]
  },
  {
   "cell_type": "code",
   "execution_count": 92,
   "id": "a70ac0d6",
   "metadata": {},
   "outputs": [],
   "source": [
    "class State(MessagesState):\n",
    "    next:str"
   ]
  },
  {
   "cell_type": "code",
   "execution_count": 93,
   "id": "774ebd71",
   "metadata": {},
   "outputs": [],
   "source": [
    "class Router(TypedDict):\n",
    "    \"\"\"Worker to route to next. If no workers needed, route to FINISH.\"\"\"\n",
    "    next: Literal[\"manage_overloaded_restaurant\",\"damaged_packaging_dispute\",\"communicate\", 'FINISH']"
   ]
  },
  {
   "cell_type": "code",
   "execution_count": 94,
   "id": "bab77355",
   "metadata": {},
   "outputs": [],
   "source": [
    "system_prompt=f\"\"\"\n",
    "You are a supervisor agent of grab-food section, tasked with managing a orchestration between the following agents: {members1\n",
    "}. \n",
    "\n",
    "\"\"\""
   ]
  },
  {
   "cell_type": "code",
   "execution_count": 95,
   "id": "e73a7564",
   "metadata": {},
   "outputs": [],
   "source": [
    "def grab_food(state:State)->Command[Literal[\"manage_overloaded_restaurant\",\"manage_packaging_dispute\",\"communicate\", '__end__']]:\n",
    "    messages = [{\"role\": \"system\", \"content\": system_prompt},] + state[\"messages\"] # in this message the content will be the if issue is orderring if the preparation time is excess then it will call the overloaded restaurant tool\n",
    "    if state.next == \"manage_overloaded_restaurant\":\n",
    "        messages.append({\"role\": \"user\", \"content\": \"The restaurant is overloaded, please manage the situation.\"})\n",
    "    elif state.next == \"manage_packaging_dispute\":\n",
    "        messages.append({\"role\": \"user\", \"content\": \"There is a dispute regarding damaged packaging.\"})\n",
    "    elif state.next == \"communicate\":\n",
    "        messages.append({\"role\": \"user\", \"content\": \"Please communicate with the customer.\"})\n",
    "    else:\n",
    "        messages.append({\"role\": \"user\", \"content\": \"No further action is needed.\"})\n",
    "    \n",
    "    response=llm.with_structured_output(Router).invoke(messages)\n",
    "    goto = response[\"next\"]\n",
    "    if goto==\"FINISH\":\n",
    "        goto =END\n",
    "\n",
    "    return Command(goto=goto,update={\"next\":goto})"
   ]
  },
  {
   "cell_type": "code",
   "execution_count": 96,
   "id": "764fc214",
   "metadata": {},
   "outputs": [],
   "source": [
    "from langchain_core.tools import tool\n",
    "\n",
    "@tool\n",
    "def notify_customer(delay_minutes: int) -> str:\n",
    "    \"\"\"\n",
    "    Notify the customer about long wait times and offer a voucher for the inconvenience.\n",
    "    \n",
    "    Args:\n",
    "        delay_minutes: The expected delay in minutes\n",
    "        \n",
    "    Returns:\n",
    "        A message confirming the customer has been notified\n",
    "    \"\"\"\n",
    "    return f\"Customer notified about {delay_minutes} minute delay. A voucher has been offered for the inconvenience.\"\n",
    "\n",
    "@tool\n",
    "def reroute_driver(delay_minutes: int) -> str:\n",
    "    \"\"\"\n",
    "    Re-route the driver to a short, nearby delivery while food is being prepared.\n",
    "    \n",
    "    Args:\n",
    "        delay_minutes: The expected delay in minutes\n",
    "        \n",
    "    Returns:\n",
    "        A message confirming the driver has been rerouted\n",
    "    \"\"\"\n",
    "    return f\"Driver has been rerouted to a nearby delivery that can be completed within {delay_minutes} minutes while food is being prepared.\"\n",
    "\n",
    "@tool\n",
    "def suggest_alternatives(delay_minutes: int) -> str:\n",
    "    \"\"\"\n",
    "    Find a similar restaurant nearby with a shorter wait time and propose it to the customer.\n",
    "    \n",
    "    Args:\n",
    "        delay_minutes: The expected delay in minutes\n",
    "        \n",
    "    Returns:\n",
    "        A message with alternative restaurant suggestions\n",
    "    \"\"\"\n",
    "    return f\"Customer has been provided with 3 similar restaurant alternatives with wait times under {delay_minutes//2} minutes.\"\n",
    "\n",
    "def manage_overloaded_restaurant(state: State) -> Command[Literal[\"grab_food\"]]:\n",
    "    \"\"\"\n",
    "    Handle situations where a restaurant is overloaded with orders, causing long wait times.\n",
    "    Uses tools to notify customer, reroute driver, and suggest alternatives if needed.\n",
    "    \"\"\"\n",
    "    # Create a React agent that uses our tools\n",
    "    tools = [notify_customer, reroute_driver, suggest_alternatives]\n",
    "    \n",
    "    # Create a system message to guide the agent\n",
    "    system_message = \"\"\"\n",
    "    You are a Grab Food order management agent handling an overloaded restaurant situation.\n",
    "    The kitchen prep time is 40 minutes, which is longer than usual.\n",
    "    \n",
    "    Follow these steps:\n",
    "    1. Notify the customer about the long wait time and offer a voucher\n",
    "    2. Optimize driver time by re-routing them to another nearby delivery\n",
    "    3. If the delay is critical, suggest alternative restaurants to the customer\n",
    "    \n",
    "    Use the available tools to complete these tasks efficiently.\n",
    "    \"\"\"\n",
    "    \n",
    "    # Create an agent that can use the tools to handle the overloaded restaurant\n",
    "    agent = create_react_agent(llm, tools, system_message)\n",
    "    \n",
    "    # Add the user query to the messages\n",
    "    messages = state[\"messages\"] + [\n",
    "        HumanMessage(content=\"The restaurant is overloaded with a 40-minute prep time. Handle this situation.\")\n",
    "    ]\n",
    "    \n",
    "    # Run the agent\n",
    "    agent_response = agent.invoke(messages)\n",
    "    \n",
    "    \n",
    "        # If no action was taken, loop back to grab_food\n",
    "    goto = \"grab_food\"\n",
    "    \n",
    "    \n",
    "        \n",
    "    return Command(goto=goto, update={\"next\": goto})"
   ]
  },
  {
   "cell_type": "code",
   "execution_count": 97,
   "id": "8ee986f0",
   "metadata": {},
   "outputs": [],
   "source": [
    "@tool\n",
    "def initiate_mediation_flow():\n",
    "    \"\"\" tool which will stop the order and also it will open a portal on both parties the driver and the customer\"\"\"\n",
    "    pass"
   ]
  },
  {
   "cell_type": "code",
   "execution_count": 98,
   "id": "cb6f7beb",
   "metadata": {},
   "outputs": [],
   "source": [
    "@tool\n",
    "def collect_evidence():\n",
    "    \"\"\" tool to collect evidence from both parties of damaged packaging\"\"\"\n",
    "    pass"
   ]
  },
  {
   "cell_type": "code",
   "execution_count": 99,
   "id": "8bac50fc",
   "metadata": {},
   "outputs": [],
   "source": [
    "from langgraph.prebuilt import create_react_agent\n",
    "\n",
    "@tool\n",
    "def issue_instant_refund():\n",
    "    \"\"\"Tool to issue an instant refund to the customer\"\"\"\n",
    "    return {\"action\": \"refund issued\"}\n",
    "\n",
    "@tool\n",
    "def exonerate_driver():\n",
    "    \"\"\"Tool to exonerate the driver from blame\"\"\"\n",
    "    return {\"action\": \"driver exonerated\"}\n",
    "\n",
    "@tool\n",
    "def log_merchant_packaging():\n",
    "    \"\"\"Tool to log merchant packaging details\"\"\"\n",
    "    return {\"action\": \"merchant packaging logged\"}\n",
    "\n",
    "\n",
    "tools1 = [issue_instant_refund, exonerate_driver, log_merchant_packaging]\n",
    "\n",
    "def analyze_evidence(state: dict):\n",
    "    \"\"\"Sub-agent that analyzes evidence and chooses an action\"\"\"\n",
    "    agent = create_react_agent(llm, tools1)\n",
    "    \n",
    "    # Feed the evidence into the sub-agent\n",
    "    result = agent.invoke({\"input\": state.get(\"evidence\", \"No evidence provided\")})\n",
    "    \n",
    "    # Store decision in state\n",
    "    state[\"analysis\"] = result\n",
    "    return state\n"
   ]
  },
  {
   "cell_type": "code",
   "execution_count": 116,
   "id": "7164586e",
   "metadata": {},
   "outputs": [],
   "source": [
    "def manage_packaging_dispute(state: State) -> Command[Literal['grab_food']]:\n",
    "    \"\"\"This is the subagent to manage packaging dispute\"\"\"\n",
    "\n",
    "    # Create the workflow graph for packaging dispute resolution\n",
    "    workflow = StateGraph(State)\n",
    "    \n",
    "    # Add nodes to the workflow\n",
    "    workflow.add_node(\"initiate_mediation_flow\", initiate_mediation_flow)\n",
    "    workflow.add_node(\"collect_evidence\", collect_evidence)\n",
    "    workflow.add_node(\"analyze_evidence\", analyze_evidence)\n",
    "    \n",
    "    # Add edges between nodes\n",
    "    workflow.add_edge(\"initiate_mediation_flow\", \"collect_evidence\")\n",
    "    workflow.add_edge(\"collect_evidence\", \"analyze_evidence\")\n",
    "    workflow.add_edge(\"analyze_evidence\", \"initiate_mediation_flow\")\n",
    "    \n",
    "    # Set the entry point\n",
    "    workflow.set_entry_point(\"initiate_mediation_flow\")\n",
    "    \n",
    "    # Compile the workflow\n",
    "    compiled_workflow = workflow.compile()\n",
    "    \n",
    "    # Display the workflow diagram\n",
    "    try:\n",
    "        from IPython.display import display, Image\n",
    "        display(Image(compiled_workflow.get_graph().draw_mermaid_png()))\n",
    "    except Exception as e:\n",
    "        print(f\"Error displaying workflow: {e}\")\n",
    "    \n",
    "    # Return to grab_food after handling the dispute\n",
    "    goto = \"grab_food\"\n",
    "    return Command(goto=goto, update={\"next\": goto})"
   ]
  },
  {
   "cell_type": "code",
   "execution_count": null,
   "id": "cb4b2648",
   "metadata": {},
   "outputs": [],
   "source": []
  },
  {
   "cell_type": "code",
   "execution_count": 117,
   "id": "250dedbf",
   "metadata": {},
   "outputs": [],
   "source": [
    "def communicate(state:State)->Command[Literal['grab_food']]:\n",
    "    \"\"\"this is a subagent for communicatiiing the fiinal message to the customer\"\"\"\n",
    "\n",
    "    goto=\"grab_food\"\n",
    "    return Command(goto=goto, update={\"next\": goto})"
   ]
  },
  {
   "cell_type": "code",
   "execution_count": 118,
   "id": "6826d8e9",
   "metadata": {},
   "outputs": [],
   "source": [
    "# Create the workflow graph\n",
    "graph = StateGraph(State)\n",
    "\n",
    "# Add all nodes to the graph\n",
    "\n",
    "graph.add_node(\"grab_food\", grab_food)\n",
    "graph.add_node(\"manage_overloaded_restaurant\", manage_overloaded_restaurant)\n",
    "graph.add_node(\"manage_packaging_dispute\", manage_packaging_dispute)\n",
    "graph.add_node(\"communicate\", communicate)\n",
    "\n",
    "graph.set_entry_point(\"grab_food\")\n",
    "\n",
    "app=graph.compile()"
   ]
  },
  {
   "cell_type": "code",
   "execution_count": null,
   "id": "72bb183a",
   "metadata": {},
   "outputs": [],
   "source": []
  },
  {
   "cell_type": "code",
   "execution_count": 119,
   "id": "3f84c5fa",
   "metadata": {},
   "outputs": [
    {
     "data": {
      "image/png": "[encoded data removed]",
      "text/plain": [
       "<IPython.core.display.Image object>"
      ]
     },
     "metadata": {},
     "output_type": "display_data"
    }
   ],
   "source": [
    "from IPython.display import display, Image\n",
    "\n",
    "display(Image(app.get_graph().draw_mermaid_png()))"
   ]
  },
  {
   "cell_type": "code",
   "execution_count": null,
   "id": "eb76fff8",
   "metadata": {},
   "outputs": [],
   "source": []
  }
 ],
 "metadata": {
  "kernelspec": {
   "display_name": "grab",
   "language": "python",
   "name": "python3"
  },
  "language_info": {
   "codemirror_mode": {
    "name": "ipython",
    "version": 3
   },
   "file_extension": ".py",
   "mimetype": "text/x-python",
   "name": "python",
   "nbconvert_exporter": "python",
   "pygments_lexer": "ipython3",
   "version": "3.10.18"
  }
 },
 "nbformat": 4,
 "nbformat_minor": 5
}
