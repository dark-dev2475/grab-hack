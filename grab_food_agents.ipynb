{
 "cells": [
  {
   "cell_type": "code",
   "execution_count": 1,
   "id": "74979c15",
   "metadata": {},
   "outputs": [],
   "source": [
    "import os\n"
   ]
  },
  {
   "cell_type": "code",
   "execution_count": 2,
   "id": "c88de467",
   "metadata": {},
   "outputs": [
    {
     "data": {
      "text/plain": [
       "True"
      ]
     },
     "execution_count": 2,
     "metadata": {},
     "output_type": "execute_result"
    }
   ],
   "source": [
    "from dotenv import load_dotenv\n",
    "load_dotenv()"
   ]
  },
  {
   "cell_type": "code",
   "execution_count": 3,
   "id": "2f040aa2",
   "metadata": {},
   "outputs": [],
   "source": [
    "GOOGLE_API_KEY = os.getenv(\"GOOGLE_API_KEY\")\n",
    "os.environ[\"GOOGLE_API_KEY\"] = GOOGLE_API_KEY"
   ]
  },
  {
   "cell_type": "code",
   "execution_count": 4,
   "id": "f225bb72",
   "metadata": {},
   "outputs": [],
   "source": [
    "\n",
    "from langchain_google_genai import ChatGoogleGenerativeAI\n",
    "llm = ChatGoogleGenerativeAI(model=\"gemini-1.5-pro-latest\")"
   ]
  },
  {
   "cell_type": "code",
   "execution_count": 5,
   "id": "afa60684",
   "metadata": {},
   "outputs": [],
   "source": [
    "from typing import Annotated\n",
    "from typing import Literal\n",
    "from langchain_community.tools.tavily_search import TavilySearchResults\n",
    "from langchain_core.tools import tool\n",
    "from langchain_experimental.utilities import PythonREPL\n",
    "from typing_extensions import TypedDict\n",
    "from langgraph.graph import MessagesState, END,StateGraph, START\n",
    "from langgraph.types import Command\n",
    "from langchain_core.messages import HumanMessage\n",
    "from langgraph.prebuilt import create_react_agent\n"
   ]
  },
  {
   "cell_type": "code",
   "execution_count": 6,
   "id": "647ac5ce",
   "metadata": {},
   "outputs": [],
   "source": [
    "members1=[\"manage_overloaded_restaurant\",\"damaged_packaging_dispute\",\"communicate\"]"
   ]
  },
  {
   "cell_type": "code",
   "execution_count": 7,
   "id": "c69495f6",
   "metadata": {},
   "outputs": [],
   "source": [
    "options=members1+[\"FINISH\"]"
   ]
  },
  {
   "cell_type": "code",
   "execution_count": 8,
   "id": "a70ac0d6",
   "metadata": {},
   "outputs": [],
   "source": [
    "class State(MessagesState):\n",
    "    next:str"
   ]
  },
  {
   "cell_type": "code",
   "execution_count": 9,
   "id": "774ebd71",
   "metadata": {},
   "outputs": [],
   "source": [
    "class Router(TypedDict):\n",
    "    \"\"\"Worker to route to next. If no workers needed, route to FINISH.\"\"\"\n",
    "    next: Literal[\"manage_overloaded_restaurant\",\"damaged_packaging_dispute\",\"communicate\", 'FINISH']"
   ]
  },
  {
   "cell_type": "code",
   "execution_count": 10,
   "id": "bab77355",
   "metadata": {},
   "outputs": [],
   "source": [
    "system_prompt=f\"\"\"\n",
    "You are a supervisor agent of grab-food section, tasked with managing a orchestration between the following agents: {members1\n",
    "}. \n",
    "\n",
    "\"\"\""
   ]
  },
  {
   "cell_type": "code",
   "execution_count": 11,
   "id": "e73a7564",
   "metadata": {},
   "outputs": [],
   "source": [
    "def grab_food(state:State)->Command[Literal[\"manage_overloaded_restaurant\",\"damaged_packaging_dispute\",\"communicate\", 'FINISH']]:\n",
    "    messages = [{\"role\": \"system\", \"content\": system_prompt},] + state[\"messages\"] # in this message the content will be the if issue is orderring if the preparation time is excess then it will call the overloaded restaurant tool\n",
    "    if state.next == \"manage_overloaded_restaurant\":\n",
    "        messages.append({\"role\": \"user\", \"content\": \"The restaurant is overloaded, please manage the situation.\"})\n",
    "    elif state.next == \"damaged_packaging_dispute\":\n",
    "        messages.append({\"role\": \"user\", \"content\": \"There is a dispute regarding damaged packaging.\"})\n",
    "    elif state.next == \"communicate\":\n",
    "        messages.append({\"role\": \"user\", \"content\": \"Please communicate with the customer.\"})\n",
    "    else:\n",
    "        messages.append({\"role\": \"user\", \"content\": \"No further action is needed.\"})\n",
    "    \n",
    "    response=llm.with_structured_output(Router).invoke(messages)\n",
    "    goto = response[\"next\"]\n",
    "    if goto==\"FINISH\":\n",
    "        goto =END\n",
    "\n",
    "    return Command(goto=goto,update={\"next\":goto})"
   ]
  },
  {
   "cell_type": "code",
   "execution_count": 12,
   "id": "764fc214",
   "metadata": {},
   "outputs": [],
   "source": [
    "from langchain_core.tools import tool\n",
    "\n",
    "@tool\n",
    "def notify_customer(delay_minutes: int) -> str:\n",
    "    \"\"\"\n",
    "    Notify the customer about long wait times and offer a voucher for the inconvenience.\n",
    "    \n",
    "    Args:\n",
    "        delay_minutes: The expected delay in minutes\n",
    "        \n",
    "    Returns:\n",
    "        A message confirming the customer has been notified\n",
    "    \"\"\"\n",
    "    return f\"Customer notified about {delay_minutes} minute delay. A voucher has been offered for the inconvenience.\"\n",
    "\n",
    "@tool\n",
    "def reroute_driver(delay_minutes: int) -> str:\n",
    "    \"\"\"\n",
    "    Re-route the driver to a short, nearby delivery while food is being prepared.\n",
    "    \n",
    "    Args:\n",
    "        delay_minutes: The expected delay in minutes\n",
    "        \n",
    "    Returns:\n",
    "        A message confirming the driver has been rerouted\n",
    "    \"\"\"\n",
    "    return f\"Driver has been rerouted to a nearby delivery that can be completed within {delay_minutes} minutes while food is being prepared.\"\n",
    "\n",
    "@tool\n",
    "def suggest_alternatives(delay_minutes: int) -> str:\n",
    "    \"\"\"\n",
    "    Find a similar restaurant nearby with a shorter wait time and propose it to the customer.\n",
    "    \n",
    "    Args:\n",
    "        delay_minutes: The expected delay in minutes\n",
    "        \n",
    "    Returns:\n",
    "        A message with alternative restaurant suggestions\n",
    "    \"\"\"\n",
    "    return f\"Customer has been provided with 3 similar restaurant alternatives with wait times under {delay_minutes//2} minutes.\"\n",
    "\n",
    "def manage_overloaded_restaurant(state: State) -> Command[Literal[\"grab_food\", \"FINISH\"]]:\n",
    "    \"\"\"\n",
    "    Handle situations where a restaurant is overloaded with orders, causing long wait times.\n",
    "    Uses tools to notify customer, reroute driver, and suggest alternatives if needed.\n",
    "    \"\"\"\n",
    "    # Create a React agent that uses our tools\n",
    "    tools = [notify_customer, reroute_driver, suggest_alternatives]\n",
    "    \n",
    "    # Create a system message to guide the agent\n",
    "    system_message = \"\"\"\n",
    "    You are a Grab Food order management agent handling an overloaded restaurant situation.\n",
    "    The kitchen prep time is 40 minutes, which is longer than usual.\n",
    "    \n",
    "    Follow these steps:\n",
    "    1. Notify the customer about the long wait time and offer a voucher\n",
    "    2. Optimize driver time by re-routing them to another nearby delivery\n",
    "    3. If the delay is critical, suggest alternative restaurants to the customer\n",
    "    \n",
    "    Use the available tools to complete these tasks efficiently.\n",
    "    \"\"\"\n",
    "    \n",
    "    # Create an agent that can use the tools to handle the overloaded restaurant\n",
    "    agent = create_react_agent(llm, tools, system_message)\n",
    "    \n",
    "    # Add the user query to the messages\n",
    "    messages = state[\"messages\"] + [\n",
    "        HumanMessage(content=\"The restaurant is overloaded with a 40-minute prep time. Handle this situation.\")\n",
    "    ]\n",
    "    \n",
    "    # Run the agent\n",
    "    agent_response = agent.invoke(messages)\n",
    "    \n",
    "    # Process the agent's response to determine next steps\n",
    "    # For simplicity, we'll just check if any action was taken\n",
    "    if any(tool.name in agent_response.content for tool in tools):\n",
    "        # If actions were taken, we can move on\n",
    "        goto = \"FINISH\" \n",
    "    else:\n",
    "        # If no action was taken, loop back to grab_food\n",
    "        goto = \"grab_food\"\n",
    "    \n",
    "    if goto == \"FINISH\":\n",
    "        goto = END\n",
    "        \n",
    "    return Command(goto=goto, update={\"next\": goto})"
   ]
  },
  {
   "cell_type": "code",
   "execution_count": null,
   "id": "7164586e",
   "metadata": {},
   "outputs": [],
   "source": []
  },
  {
   "cell_type": "code",
   "execution_count": null,
   "id": "6826d8e9",
   "metadata": {},
   "outputs": [
    {
     "ename": "NameError",
     "evalue": "name 'damaged_packaging_dispute' is not defined",
     "output_type": "error",
     "traceback": [
      "\u001b[1;31m---------------------------------------------------------------------------\u001b[0m",
      "\u001b[1;31mNameError\u001b[0m                                 Traceback (most recent call last)",
      "Cell \u001b[1;32mIn[13], line 7\u001b[0m\n\u001b[0;32m      5\u001b[0m graph\u001b[38;5;241m.\u001b[39madd_node(\u001b[38;5;124m\"\u001b[39m\u001b[38;5;124mgrab_food\u001b[39m\u001b[38;5;124m\"\u001b[39m, grab_food)\n\u001b[0;32m      6\u001b[0m graph\u001b[38;5;241m.\u001b[39madd_node(\u001b[38;5;124m\"\u001b[39m\u001b[38;5;124mmanage_overloaded_restaurant\u001b[39m\u001b[38;5;124m\"\u001b[39m, manage_overloaded_restaurant)\n\u001b[1;32m----> 7\u001b[0m graph\u001b[38;5;241m.\u001b[39madd_node(\u001b[38;5;124m\"\u001b[39m\u001b[38;5;124mdamaged_packaging_dispute\u001b[39m\u001b[38;5;124m\"\u001b[39m, \u001b[43mdamaged_packaging_dispute\u001b[49m)\n\u001b[0;32m      8\u001b[0m graph\u001b[38;5;241m.\u001b[39madd_node(\u001b[38;5;124m\"\u001b[39m\u001b[38;5;124mcommunicate\u001b[39m\u001b[38;5;124m\"\u001b[39m, notify_resolution)\n",
      "\u001b[1;31mNameError\u001b[0m: name 'damaged_packaging_dispute' is not defined"
     ]
    }
   ],
   "source": [
    "# Create the workflow graph\n",
    "graph = StateGraph(State)\n",
    "\n",
    "# Add all nodes to the graph\n",
    "\n",
    "graph.add_node(\"grab_food\", grab_food)\n",
    "graph.add_node(\"manage_overloaded_restaurant\", manage_overloaded_restaurant)\n",
    "graph.add_node(\"damaged_packaging_dispute\", damaged_packaging_dispute)\n",
    "graph.add_node(\"communicate\", notify_resolution)"
   ]
  },
  {
   "cell_type": "code",
   "execution_count": null,
   "id": "8ef5e9fb",
   "metadata": {},
   "outputs": [],
   "source": [
    "\n",
    "graph.add_edge(\"grab_food\", \"manage_overloaded_restaurant\")\n",
    "graph.add_edge(\"grab_food\", \"damaged_packaging_dispute\")\n",
    "graph.add_edge(\"grab_food\", \"communicate\")\n",
    "graph.add_edge(\"grab_food\", END)\n",
    "\n",
    "\n",
    "graph.add_edge(\"manage_overloaded_restaurant\", \"grab_food\")\n",
    "graph.add_edge(\"manage_overloaded_restaurant\", END)\n",
    "graph.add_edge(\"damaged_packaging_dispute\", \"grab_food\")\n",
    "graph.add_edge(\"damaged_packaging_dispute\", END)\n",
    "graph.add_edge(\"communicate\", \"grab_food\")\n",
    "graph.add_edge(\"communicate\", END)\n",
    "\n",
    "\n",
    "graph.set_entry_point(\"grab_food\")\n",
    "\n",
    "\n",
    "app = graph.compile()"
   ]
  },
  {
   "cell_type": "code",
   "execution_count": null,
   "id": "3f84c5fa",
   "metadata": {},
   "outputs": [],
   "source": []
  }
 ],
 "metadata": {
  "kernelspec": {
   "display_name": "grab",
   "language": "python",
   "name": "python3"
  },
  "language_info": {
   "codemirror_mode": {
    "name": "ipython",
    "version": 3
   },
   "file_extension": ".py",
   "mimetype": "text/x-python",
   "name": "python",
   "nbconvert_exporter": "python",
   "pygments_lexer": "ipython3",
   "version": "3.10.18"
  }
 },
 "nbformat": 4,
 "nbformat_minor": 5
}
