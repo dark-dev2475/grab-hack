{
 "cells": [
  {
   "cell_type": "code",
   "execution_count": 26,
   "id": "94f200ac",
   "metadata": {},
   "outputs": [],
   "source": [
    "import  os"
   ]
  },
  {
   "cell_type": "code",
   "execution_count": 27,
   "id": "13808af9",
   "metadata": {},
   "outputs": [
    {
     "data": {
      "text/plain": [
       "True"
      ]
     },
     "execution_count": 27,
     "metadata": {},
     "output_type": "execute_result"
    }
   ],
   "source": [
    "from dotenv import load_dotenv\n",
    "load_dotenv()"
   ]
  },
  {
   "cell_type": "code",
   "execution_count": 28,
   "id": "f3b56b54",
   "metadata": {},
   "outputs": [],
   "source": [
    "GOOGLE_API_KEY = os.getenv(\"GOOGLE_API_KEY\")\n",
    "os.environ[\"GOOGLE_API_KEY\"] = GOOGLE_API_KEY"
   ]
  },
  {
   "cell_type": "code",
   "execution_count": 29,
   "id": "77891114",
   "metadata": {},
   "outputs": [],
   "source": [
    "\n",
    "from langchain_google_genai import ChatGoogleGenerativeAI\n",
    "llm = ChatGoogleGenerativeAI(model=\"gemini-1.5-pro-latest\")"
   ]
  },
  {
   "cell_type": "code",
   "execution_count": 30,
   "id": "1ba2076c",
   "metadata": {},
   "outputs": [],
   "source": [
    "from typing import Annotated\n",
    "from typing import Literal\n",
    "from langchain_community.tools.tavily_search import TavilySearchResults\n",
    "from langchain_core.tools import tool\n",
    "from langchain_experimental.utilities import PythonREPL\n",
    "from typing_extensions import TypedDict\n",
    "from langgraph.graph import MessagesState, END,StateGraph, START\n",
    "from langgraph.types import Command\n",
    "from langchain_core.messages import HumanMessage,SystemMessage\n",
    "from langgraph.prebuilt import create_react_agent\n"
   ]
  },
  {
   "cell_type": "code",
   "execution_count": 31,
   "id": "0699723c",
   "metadata": {},
   "outputs": [
    {
     "data": {
      "text/plain": [
       "AIMessage(content='Hi there! How can I help you today?', additional_kwargs={}, response_metadata={'prompt_feedback': {'block_reason': 0, 'safety_ratings': []}, 'finish_reason': 'STOP', 'model_name': 'gemini-1.5-pro-002', 'safety_ratings': []}, id='run--89f5b6b5-77df-4ec2-983b-3e355c7e06a5-0', usage_metadata={'input_tokens': 1, 'output_tokens': 11, 'total_tokens': 12, 'input_token_details': {'cache_read': 0}})"
      ]
     },
     "execution_count": 31,
     "metadata": {},
     "output_type": "execute_result"
    }
   ],
   "source": [
    "llm.invoke(\"hi\")"
   ]
  },
  {
   "cell_type": "code",
   "execution_count": 32,
   "id": "a7a0536a",
   "metadata": {},
   "outputs": [],
   "source": [
    "@tool\n",
    "def contact_recipient_via_chat():\n",
    "    \"\"\"\n",
    "    Contacts the recipient via chat to provide updates or gather information. this will start a chat between the recipient and the delivery boy.\n",
    "    \"\"\"\n",
    "    # Implementation for contacting the recipient via chat\n",
    "    pass\n",
    "\n",
    "@tool\n",
    "def suggest_drop_off():\n",
    "    \"\"\"\n",
    "    if the user uses this  tool then  the agent will suggest a drop-off location fot the delivery.\n",
    "    \"\"\"\n",
    "    # Implementation for suggesting a drop-off location\n",
    "    pass\n",
    "\n",
    "@tool\n",
    "def find_nearby_locker():\n",
    "    \"\"\"\n",
    "    Finds a nearby locker for the delivery.\n",
    "    \"\"\"\n",
    "    # Implementation for finding a nearby locker\n",
    "    pass\n"
   ]
  },
  {
   "cell_type": "code",
   "execution_count": 33,
   "id": "e22735c4",
   "metadata": {},
   "outputs": [],
   "source": [
    "tools=[contact_recipient_via_chat, suggest_drop_off, find_nearby_locker]"
   ]
  },
  {
   "cell_type": "code",
   "execution_count": 34,
   "id": "7dd048ab",
   "metadata": {},
   "outputs": [],
   "source": [
    "llm_with_tools=llm.bind_tools(tools)"
   ]
  },
  {
   "cell_type": "code",
   "execution_count": 35,
   "id": "b6e30156",
   "metadata": {},
   "outputs": [],
   "source": [
    "class State(MessagesState):\n",
    "    next:str"
   ]
  },
  {
   "cell_type": "code",
   "execution_count": 36,
   "id": "e875ec53",
   "metadata": {},
   "outputs": [],
   "source": [
    "# System message\n",
    "sys_msg = SystemMessage(content=\"You are a helpful assistant who ensure that the delivery is done safely if the user is not present there.\")\n",
    "     "
   ]
  },
  {
   "cell_type": "code",
   "execution_count": 37,
   "id": "4c434e48",
   "metadata": {},
   "outputs": [],
   "source": [
    "def grab_express(state: State) -> dict:\n",
    "    \"\"\"\n",
    "    ReAct agent for handling express deliveries when the recipient is not present.\n",
    "    Uses tools to contact the recipient, suggest drop-off locations, and find nearby lockers.\n",
    "    \n",
    "    Args:\n",
    "        state: The current state including messages\n",
    "        \n",
    "    Returns:\n",
    "        Updated state with new messages\n",
    "    \"\"\"\n",
    "    # Create a ReAct agent that can use our tools\n",
    "    agent = create_react_agent(llm, tools, sys_msg.content)\n",
    "    \n",
    "    # Invoke the agent with the current messages\n",
    "    result = agent.invoke(state[\"messages\"])\n",
    "    \n",
    "    # Return the updated messages\n",
    "    return {\"messages\": state[\"messages\"] + [result]}"
   ]
  },
  {
   "cell_type": "code",
   "execution_count": 38,
   "id": "4d847777",
   "metadata": {},
   "outputs": [],
   "source": [
    "graph = StateGraph(State)"
   ]
  },
  {
   "cell_type": "code",
   "execution_count": 39,
   "id": "e1c2f394",
   "metadata": {},
   "outputs": [],
   "source": [
    "# Add the grab_express node to the graph\n",
    "graph.add_node(\"grab_express\", grab_express)\n",
    "\n",
    "# Set the entry point\n",
    "graph.set_entry_point(\"grab_express\")\n",
    "\n",
    "# Compile the graph\n",
    "app = graph.compile()"
   ]
  },
  {
   "cell_type": "code",
   "execution_count": 42,
   "id": "82193f63",
   "metadata": {},
   "outputs": [
    {
     "data": {
      "image/png": "[encoded data removed]",
      "text/plain": [
       "<IPython.core.display.Image object>"
      ]
     },
     "metadata": {},
     "output_type": "display_data"
    }
   ],
   "source": [
    "from IPython.display import display, Image\n",
    "\n",
    "display(Image(app.get_graph().draw_mermaid_png()))"
   ]
  },
  {
   "cell_type": "code",
   "execution_count": 40,
   "id": "09e16225",
   "metadata": {},
   "outputs": [],
   "source": [
    "# Test example - uncomment to run\n",
    "# inputs = {\"messages\": [HumanMessage(content=\"I'm trying to deliver a package but the recipient isn't home. What should I do?\")]}\n",
    "# result = app.invoke(inputs)\n",
    "# print(result[\"messages\"][-1].content)"
   ]
  }
 ],
 "metadata": {
  "kernelspec": {
   "display_name": "grab",
   "language": "python",
   "name": "python3"
  },
  "language_info": {
   "codemirror_mode": {
    "name": "ipython",
    "version": 3
   },
   "file_extension": ".py",
   "mimetype": "text/x-python",
   "name": "python",
   "nbconvert_exporter": "python",
   "pygments_lexer": "ipython3",
   "version": "3.10.18"
  }
 },
 "nbformat": 4,
 "nbformat_minor": 5
}
