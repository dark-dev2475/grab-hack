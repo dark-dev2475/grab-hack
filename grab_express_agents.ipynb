{
 "cells": [
  {
   "cell_type": "code",
   "execution_count": 18,
   "id": "94f200ac",
   "metadata": {},
   "outputs": [],
   "source": [
    "import  os"
   ]
  },
  {
   "cell_type": "code",
   "execution_count": 19,
   "id": "13808af9",
   "metadata": {},
   "outputs": [
    {
     "data": {
      "text/plain": [
       "True"
      ]
     },
     "execution_count": 19,
     "metadata": {},
     "output_type": "execute_result"
    }
   ],
   "source": [
    "from dotenv import load_dotenv\n",
    "load_dotenv()"
   ]
  },
  {
   "cell_type": "code",
   "execution_count": 20,
   "id": "f3b56b54",
   "metadata": {},
   "outputs": [],
   "source": [
    "GOOGLE_API_KEY = os.getenv(\"GOOGLE_API_KEY\")\n",
    "os.environ[\"GOOGLE_API_KEY\"] = GOOGLE_API_KEY"
   ]
  },
  {
   "cell_type": "code",
   "execution_count": 21,
   "id": "77891114",
   "metadata": {},
   "outputs": [],
   "source": [
    "\n",
    "from langchain_google_genai import ChatGoogleGenerativeAI\n",
    "llm = ChatGoogleGenerativeAI(model=\"gemini-1.5-pro-latest\")"
   ]
  },
  {
   "cell_type": "code",
   "execution_count": 22,
   "id": "1ba2076c",
   "metadata": {},
   "outputs": [],
   "source": [
    "from typing import Annotated\n",
    "from typing import Literal\n",
    "from langchain_community.tools.tavily_search import TavilySearchResults\n",
    "from langchain_core.tools import tool\n",
    "from langchain_experimental.utilities import PythonREPL\n",
    "from typing_extensions import TypedDict\n",
    "from langgraph.graph import MessagesState, END,StateGraph, START\n",
    "from langgraph.types import Command\n",
    "from langchain_core.messages import HumanMessage,SystemMessage\n",
    "from langgraph.prebuilt import create_react_agent\n"
   ]
  },
  {
   "cell_type": "code",
   "execution_count": 23,
   "id": "0699723c",
   "metadata": {},
   "outputs": [
    {
     "data": {
      "text/plain": [
       "AIMessage(content='Hi there! How can I help you today?', additional_kwargs={}, response_metadata={'prompt_feedback': {'block_reason': 0, 'safety_ratings': []}, 'finish_reason': 'STOP', 'model_name': 'gemini-1.5-pro-002', 'safety_ratings': []}, id='run--a9a89546-5b49-48c1-8b88-6b69f7529a1d-0', usage_metadata={'input_tokens': 1, 'output_tokens': 11, 'total_tokens': 12, 'input_token_details': {'cache_read': 0}})"
      ]
     },
     "execution_count": 23,
     "metadata": {},
     "output_type": "execute_result"
    }
   ],
   "source": [
    "llm.invoke(\"hi\")"
   ]
  },
  {
   "cell_type": "code",
   "execution_count": 24,
   "id": "a7a0536a",
   "metadata": {},
   "outputs": [],
   "source": [
    "@tool\n",
    "def contact_recipient_via_chat():\n",
    "    \"\"\"\n",
    "    agents use this tool to contact to the recipe]ient via chat,, it aks for instuction fro the recipient\n",
    "    Contacts the recipient via chat to provide updates or gather information. this will start a chat between the recipient and the delivery boy.\n",
    "    \"\"\"\n",
    "    # Implementation for contacting the recipient via chat\n",
    "    pass\n",
    "\n",
    "@tool\n",
    "def suggest_drop_off():\n",
    "    \"\"\"\n",
    "    based on the chat between the recipient and the delivery boy,if the  user guves the permission then to use this toll thuis tool will be apecializeed in telling the alternative way for dropp off\n",
    "    if the user uses this  tool then  the agent will suggest a drop-off location fot the delivery.\n",
    "    \"\"\"\n",
    "    # Implementation for suggesting a drop-off location\n",
    "    pass\n",
    "\n",
    "@tool\n",
    "def find_nearby_locker():\n",
    "    \"\"\"\n",
    "    ifthe user finda none oif the safe drop-off thenn agent  will use this tool to suggest a secure parccel loacker as an alternative delivery poinnt\n",
    "    \n",
    "    Finds a nearby locker for the delivery.\n",
    "    \"\"\"\n",
    "    # Implementation for finding a nearby locker\n",
    "    pass\n"
   ]
  },
  {
   "cell_type": "code",
   "execution_count": 25,
   "id": "e22735c4",
   "metadata": {},
   "outputs": [],
   "source": [
    "tools=[contact_recipient_via_chat, suggest_drop_off, find_nearby_locker]"
   ]
  },
  {
   "cell_type": "code",
   "execution_count": 26,
   "id": "7dd048ab",
   "metadata": {},
   "outputs": [],
   "source": [
    "llm_with_tools=llm.bind_tools(tools)"
   ]
  },
  {
   "cell_type": "code",
   "execution_count": 27,
   "id": "b6e30156",
   "metadata": {},
   "outputs": [],
   "source": [
    "class State(MessagesState):\n",
    "    next:str"
   ]
  },
  {
   "cell_type": "code",
   "execution_count": 28,
   "id": "e875ec53",
   "metadata": {},
   "outputs": [],
   "source": [
    "# System message\n",
    "sys_msg = SystemMessage(content=\"You are a helpful assistant who ensure that the delivery is done safely if the user is not present there.\")\n",
    "     "
   ]
  },
  {
   "cell_type": "code",
   "execution_count": 29,
   "id": "4c434e48",
   "metadata": {},
   "outputs": [],
   "source": [
    "def grab_express(state: State) -> dict:\n",
    "    \"\"\"\n",
    "    ReAct agent for handling express deliveries when the recipient is not present.\n",
    "    Uses tools to contact the recipient, suggest drop-off locations, and find nearby lockers.\n",
    "    it amaainly thinks whcih tool to use sequentialy\n",
    "    \n",
    "    \"\"\"\n",
    "    # Create a ReAct agent that can use our tools\n",
    "    agent = create_react_agent(llm)\n",
    "    result=agent.invoke(state[\"messages\"])\n",
    "\n",
    "    # Return the updated messages\n",
    "    return {\"messages\": state[\"messages\"] + [result]}"
   ]
  },
  {
   "cell_type": "code",
   "execution_count": 30,
   "id": "bf4d826b",
   "metadata": {},
   "outputs": [],
   "source": [
    "def grab_express_condition(state):\n",
    "    # `state` is whatever your graph's state type is.\n",
    "    # Return a string key to decide the path.\n",
    "    if state.get(\"needs_contact\"):\n",
    "        return \"contact\"\n",
    "    elif state.get(\"needs_drop_off\"):\n",
    "        return \"suggest_drop_off\"\n",
    "    elif state.get(\"use_locker\"):\n",
    "        return \"find_nearby_locker\"\n",
    "    else:\n",
    "        return END   # fallback"
   ]
  },
  {
   "cell_type": "code",
   "execution_count": 31,
   "id": "4d847777",
   "metadata": {},
   "outputs": [],
   "source": [
    "graph = StateGraph(State)"
   ]
  },
  {
   "cell_type": "code",
   "execution_count": 32,
   "id": "e1c2f394",
   "metadata": {},
   "outputs": [],
   "source": [
    "# Add the grab_express node to the graph\n",
    "graph.add_node(\"grab_express\", grab_express)\n",
    "graph.add_node(\"contact\",contact_recipient_via_chat)\n",
    "graph.add_node(\"suggest_drop_off\", suggest_drop_off)\n",
    "graph.add_node(\"find_nearby_locker\", find_nearby_locker)\n",
    "\n",
    "graph.add_edge(START, \"grab_express\")\n",
    "\n",
    "graph.add_conditional_edges(\n",
    "    \"grab_express\",\n",
    "    grab_express_condition,\n",
    "    {\n",
    "        \"contact\": \"contact\",\n",
    "        \"suggest_drop_off\": \"suggest_drop_off\",\n",
    "        \"find_nearby_locker\": \"find_nearby_locker\",\n",
    "        END: END\n",
    "    }\n",
    ")\n",
    "graph.add_edge(\"contact\", \"grab_express\")\n",
    "graph.add_edge(\"suggest_drop_off\", \"grab_express\")  \n",
    "graph.add_edge(\"find_nearby_locker\", \"grab_express\")\n",
    "graph.add_edge(\"grab_express\", END)\n",
    "# Set the entry point\n",
    "\n",
    "# Compile the graph\n",
    "app = graph.compile()"
   ]
  },
  {
   "cell_type": "code",
   "execution_count": 33,
   "id": "82193f63",
   "metadata": {},
   "outputs": [
    {
     "data": {
      "image/png": "[encoded data removed]",
      "text/plain": [
       "<IPython.core.display.Image object>"
      ]
     },
     "metadata": {},
     "output_type": "display_data"
    }
   ],
   "source": [
    "from IPython.display import display, Image\n",
    "\n",
    "display(Image(app.get_graph().draw_mermaid_png()))"
   ]
  },
  {
   "cell_type": "code",
   "execution_count": 34,
   "id": "09e16225",
   "metadata": {},
   "outputs": [],
   "source": [
    "# Test example - uncomment to run\n",
    "# inputs = {\"messages\": [HumanMessage(content=\"I'm trying to deliver a package but the recipient isn't home. What should I do?\")]}\n",
    "# result = app.invoke(inputs)\n",
    "# print(result[\"messages\"][-1].content)"
   ]
  }
 ],
 "metadata": {
  "kernelspec": {
   "display_name": "grab",
   "language": "python",
   "name": "python3"
  },
  "language_info": {
   "codemirror_mode": {
    "name": "ipython",
    "version": 3
   },
   "file_extension": ".py",
   "mimetype": "text/x-python",
   "name": "python",
   "nbconvert_exporter": "python",
   "pygments_lexer": "ipython3",
   "version": "3.10.18"
  }
 },
 "nbformat": 4,
 "nbformat_minor": 5
}
