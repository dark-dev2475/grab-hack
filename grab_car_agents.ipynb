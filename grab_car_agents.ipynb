{
 "cells": [
  {
   "cell_type": "code",
   "execution_count": 13,
   "id": "96e72cfb",
   "metadata": {},
   "outputs": [],
   "source": [
    "import os\n"
   ]
  },
  {
   "cell_type": "code",
   "execution_count": 14,
   "id": "4e884df4",
   "metadata": {},
   "outputs": [
    {
     "data": {
      "text/plain": [
       "True"
      ]
     },
     "execution_count": 14,
     "metadata": {},
     "output_type": "execute_result"
    }
   ],
   "source": [
    "from  dotenv import load_dotenv\n",
    "load_dotenv()"
   ]
  },
  {
   "cell_type": "code",
   "execution_count": 15,
   "id": "cd704048",
   "metadata": {},
   "outputs": [],
   "source": [
    "GOOGLE_API_KEY = os.getenv(\"GOOGLE_API_KEY\")\n",
    "os.environ[\"GOOGLE_API_KEY\"] = GOOGLE_API_KEY"
   ]
  },
  {
   "cell_type": "code",
   "execution_count": null,
   "id": "96ec1bf7",
   "metadata": {},
   "outputs": [],
   "source": []
  },
  {
   "cell_type": "code",
   "execution_count": 29,
   "id": "df84bc6c",
   "metadata": {},
   "outputs": [],
   "source": [
    "from typing import Annotated\n",
    "from typing import Literal\n",
    "from langchain_community.tools.tavily_search import TavilySearchResults\n",
    "from langchain_core.tools import tool\n",
    "from langchain_experimental.utilities import PythonREPL\n",
    "from typing_extensions import TypedDict\n",
    "from langgraph.graph import MessagesState, END,StateGraph, START\n",
    "from langgraph.types import Command\n",
    "from langchain_core.messages import HumanMessage\n",
    "from langgraph.prebuilt import create_react_agent\n"
   ]
  },
  {
   "cell_type": "code",
   "execution_count": 30,
   "id": "3e012e02",
   "metadata": {},
   "outputs": [],
   "source": [
    "\n",
    "from langchain_google_genai import ChatGoogleGenerativeAI\n",
    "llm = ChatGoogleGenerativeAI(model=\"gemini-1.5-pro-latest\")"
   ]
  },
  {
   "cell_type": "code",
   "execution_count": 50,
   "id": "dc9be071",
   "metadata": {},
   "outputs": [],
   "source": [
    "@tool\n",
    "def check_traffic():\n",
    "    \"\"\"this method will be initiated by the driver and it will check the traffic in the route which is to be travelled by the driver\"\"\"\n",
    "    return f\"Checking traffic for the route...\" \n",
    "\n",
    "@tool\n",
    "def calculate_alternative_route():\n",
    "    \"\"\"this method will use llm andd logisitcs api to find the next fastest route \"\"\"    \n",
    "    return f\"Calculating alternative route...\"\n",
    "\n",
    "@tool\n",
    "def notify_passenger_and_driver():\n",
    "    \"\"\"this method will notify the passenger and driver about the traffic situation and alternative route\"\"\"\n",
    "    return f\"Notifying passenger and driver about the traffic situation and alternative route...\"\n",
    "\n",
    "\n",
    "@tool\n",
    "def check_flight_status():\n",
    "    \"\"\"this method will check the status of the flight \"\"\"\n",
    "    return f\"Checking flight status...\"\n",
    "\n"
   ]
  },
  {
   "cell_type": "code",
   "execution_count": 54,
   "id": "1d755163",
   "metadata": {},
   "outputs": [],
   "source": [
    "tools=[\"check_traffic\", \"calculate_alternative_route\", \"notify_passenger_and_driver\", \"check_flight_status\"]\n"
   ]
  },
  {
   "cell_type": "code",
   "execution_count": 55,
   "id": "b012af4c",
   "metadata": {},
   "outputs": [],
   "source": [
    "class State(MessagesState):\n",
    "    next:str"
   ]
  },
  {
   "cell_type": "code",
   "execution_count": 56,
   "id": "d53b1c92",
   "metadata": {},
   "outputs": [],
   "source": [
    "\n",
    "options = members + [\"END\"]  # Changed FINISH to END\n",
    "\n",
    "\n",
    "tools = [\"check_traffic\", \"calculate_alternative_route\", \"notify_passenger_and_driver\", \"check_flight_status\"]\n",
    "\n",
    "system_prompt = f\"\"\"\n",
    "You are a supervisor agent for Grab Car services, tasked with managing orchestration between the following agents: {members}.\n",
    "You will analyze the situation and route to the appropriate agent to handle it.\n",
    "\"\"\""
   ]
  },
  {
   "cell_type": "code",
   "execution_count": 57,
   "id": "9dc2d124",
   "metadata": {},
   "outputs": [],
   "source": [
    "def grab_car(state: State) -> dict:\n",
    "    \"\"\"\n",
    "    ReAct agent for handling express deliveries when the recipient is not present.\n",
    "   \n",
    "    \n",
    "    Args:\n",
    "        state: The current state including messages\n",
    "        \n",
    "    Returns:\n",
    "        Updated state with new messages\n",
    "    \"\"\"\n",
    "    # Create a ReAct agent that can use our tools\n",
    "    agent = create_react_agent(llm, tools, sys_msg.content)\n",
    "    \n",
    "    # Invoke the agent with the current messages\n",
    "    result = agent.invoke(state[\"messages\"])\n",
    "    \n",
    "    # Return the updated messages\n",
    "    return {\"messages\": state[\"messages\"] + [result]}"
   ]
  },
  {
   "cell_type": "code",
   "execution_count": 60,
   "id": "4f71f90a",
   "metadata": {},
   "outputs": [],
   "source": [
    "graph = StateGraph(State)\n",
    "graph.add_node(\"grab_car\", grab_car)\n",
    "graph.set_entry_point(\"grab_car\")\n",
    "app = graph.compile()"
   ]
  },
  {
   "cell_type": "code",
   "execution_count": 61,
   "id": "1f6d6e33",
   "metadata": {},
   "outputs": [
    {
     "data": {
      "image/png": "[encoded data removed]",
      "text/plain": [
       "<IPython.core.display.Image object>"
      ]
     },
     "metadata": {},
     "output_type": "display_data"
    }
   ],
   "source": [
    "from IPython.display import display, Image\n",
    "\n",
    "display(Image(app.get_graph().draw_mermaid_png()))"
   ]
  },
  {
   "cell_type": "code",
   "execution_count": 42,
   "id": "e5a3e668",
   "metadata": {},
   "outputs": [
    {
     "name": "stdout",
     "output_type": "stream",
     "text": [
      "Members: ['handle_traffic_dispute', 'airport_pickup_assistance', 'communicate']\n",
      "Options: ['handle_traffic_dispute', 'airport_pickup_assistance', 'communicate', 'END']\n",
      "Updated Options: ['handle_traffic_dispute', 'airport_pickup_assistance', 'communicate', 'END']\n",
      "\n",
      "Router class definition uses: END\n"
     ]
    }
   ],
   "source": [
    "# Debug: Print all variables and options\n",
    "print(\"Members:\", members)\n",
    "print(\"Options:\", options)\n",
    "\n",
    "# Redefine options to ensure it uses END\n",
    "options = members + [\"END\"]\n",
    "print(\"Updated Options:\", options)\n",
    "\n",
    "# Force re-execution of Router class\n",
    "print(\"\\nRouter class definition uses:\", \"END\" if \"END\" in Router.__annotations__[\"next\"].__args__ else \"FINISH\")"
   ]
  },
  {
   "cell_type": "code",
   "execution_count": 48,
   "id": "a44fdd9f",
   "metadata": {},
   "outputs": [
    {
     "name": "stdout",
     "output_type": "stream",
     "text": [
      "END constant value: '__end__'\n",
      "Type of END: <class 'str'>\n",
      "Is END a string? True\n",
      "END in globals? True\n",
      "\n",
      "Imports from langgraph.graph:\n",
      "  END: <class 'str'>\n",
      "  MessageGraph: <class 'type'>\n",
      "  MessagesState: <class 'typing_extensions._TypedDictMeta'>\n",
      "  START: <class 'str'>\n",
      "  StateGraph: <class 'type'>\n",
      "  add_messages: <class 'function'>\n",
      "  message: <class 'module'>\n",
      "  state: <class 'module'>\n"
     ]
    }
   ],
   "source": [
    "# Check the END constant and other globals\n",
    "print(\"END constant value:\", repr(END))\n",
    "print(\"Type of END:\", type(END))\n",
    "print(\"Is END a string?\", isinstance(END, str))\n",
    "\n",
    "# Check if END is in globals\n",
    "print(\"END in globals?\", \"END\" in globals())\n",
    "\n",
    "# Print all imports from langgraph.graph\n",
    "import inspect\n",
    "from langgraph import graph\n",
    "print(\"\\nImports from langgraph.graph:\")\n",
    "for name, obj in inspect.getmembers(graph):\n",
    "    if not name.startswith(\"_\"):  # Skip private attributes\n",
    "        print(f\"  {name}: {type(obj)}\")"
   ]
  },
  {
   "cell_type": "code",
   "execution_count": null,
   "id": "9c140dee",
   "metadata": {},
   "outputs": [],
   "source": []
  }
 ],
 "metadata": {
  "kernelspec": {
   "display_name": "grab",
   "language": "python",
   "name": "python3"
  },
  "language_info": {
   "codemirror_mode": {
    "name": "ipython",
    "version": 3
   },
   "file_extension": ".py",
   "mimetype": "text/x-python",
   "name": "python",
   "nbconvert_exporter": "python",
   "pygments_lexer": "ipython3",
   "version": "3.10.18"
  }
 },
 "nbformat": 4,
 "nbformat_minor": 5
}
